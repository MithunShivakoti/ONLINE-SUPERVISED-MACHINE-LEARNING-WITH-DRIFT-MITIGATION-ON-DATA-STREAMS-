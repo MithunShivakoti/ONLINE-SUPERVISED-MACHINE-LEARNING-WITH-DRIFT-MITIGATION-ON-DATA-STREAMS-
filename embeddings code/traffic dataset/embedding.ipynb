{
 "cells": [
  {
   "cell_type": "code",
   "execution_count": 2,
   "metadata": {},
   "outputs": [],
   "source": [
    "import pandas as pd\n",
    "from gensim.models import Word2Vec\n",
    "from nltk.tokenize import word_tokenize\n",
    "\n",
    "# Load your dataset into a pandas DataFrame\n",
    "# Assuming your DataFrame is named 'df' with columns 'class' and 'tweet'\n",
    "# For example:\n",
    "df = pd.read_csv('balanced_dataset.csv')\n",
    "\n",
    "# Tokenize the tweets into words\n",
    "tokenized_tweets = df['tweet'].apply(word_tokenize)\n",
    "\n",
    "# Train the Word2Vec model\n",
    "word2vec_model = Word2Vec(sentences=tokenized_tweets, vector_size=100, window=5, min_count=1, workers=4)\n",
    "\n",
    "# Create word embeddings for each tweet\n",
    "def get_tweet_vector(tweet):\n",
    "    # Tokenize the tweet\n",
    "    tokens = word_tokenize(tweet)\n",
    "    # Get the word vectors for each token and take the mean\n",
    "    vectors = [word2vec_model.wv[token] for token in tokens if token in word2vec_model.wv]\n",
    "    if vectors:\n",
    "        return sum(vectors) / len(vectors)\n",
    "    else:\n",
    "        # If no valid tokens are found, return a vector of zeros\n",
    "        return [0] * 100\n",
    "\n",
    "# Apply the function to each tweet and create a new DataFrame\n",
    "embedding_df = pd.DataFrame(df['tweet'].apply(get_tweet_vector).tolist())\n",
    "\n",
    "# Concatenate the class labels with the embeddings DataFrame\n",
    "embedding_df['class'] = df['class']\n",
    "\n",
    "# Save the embeddings to a CSV file\n",
    "embedding_df.to_csv('word2vec_embeddings_3.csv', index=False)\n"
   ]
  },
  {
   "cell_type": "code",
   "execution_count": null,
   "metadata": {},
   "outputs": [],
   "source": []
  }
 ],
 "metadata": {
  "kernelspec": {
   "display_name": "tensor",
   "language": "python",
   "name": "python3"
  },
  "language_info": {
   "codemirror_mode": {
    "name": "ipython",
    "version": 3
   },
   "file_extension": ".py",
   "mimetype": "text/x-python",
   "name": "python",
   "nbconvert_exporter": "python",
   "pygments_lexer": "ipython3",
   "version": "3.10.11"
  },
  "orig_nbformat": 4
 },
 "nbformat": 4,
 "nbformat_minor": 2
}

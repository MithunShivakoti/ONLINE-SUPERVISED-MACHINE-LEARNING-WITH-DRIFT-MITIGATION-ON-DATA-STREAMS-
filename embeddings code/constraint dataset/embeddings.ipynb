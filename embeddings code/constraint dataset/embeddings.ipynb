{
 "cells": [
  {
   "cell_type": "code",
   "execution_count": 2,
   "metadata": {},
   "outputs": [
    {
     "ename": "ImportError",
     "evalue": "cannot import name 'GloVe' from 'gensim.models' (c:\\Users\\shree\\anaconda3\\envs\\tensor\\lib\\site-packages\\gensim\\models\\__init__.py)",
     "output_type": "error",
     "traceback": [
      "\u001b[1;31m---------------------------------------------------------------------------\u001b[0m",
      "\u001b[1;31mImportError\u001b[0m                               Traceback (most recent call last)",
      "\u001b[1;32mc:\\Users\\shree\\Desktop\\VIT AP\\Capstone\\PROJECT\\Fake news dataset\\embeddings.ipynb Cell 1\u001b[0m line \u001b[0;36m5\n\u001b[0;32m      <a href='vscode-notebook-cell:/c%3A/Users/shree/Desktop/VIT%20AP/Capstone/PROJECT/Fake%20news%20dataset/embeddings.ipynb#W2sZmlsZQ%3D%3D?line=2'>3</a>\u001b[0m \u001b[39mfrom\u001b[39;00m \u001b[39mgensim\u001b[39;00m\u001b[39m.\u001b[39;00m\u001b[39mmodels\u001b[39;00m \u001b[39mimport\u001b[39;00m KeyedVectors\n\u001b[0;32m      <a href='vscode-notebook-cell:/c%3A/Users/shree/Desktop/VIT%20AP/Capstone/PROJECT/Fake%20news%20dataset/embeddings.ipynb#W2sZmlsZQ%3D%3D?line=3'>4</a>\u001b[0m \u001b[39mfrom\u001b[39;00m \u001b[39mgensim\u001b[39;00m\u001b[39m.\u001b[39;00m\u001b[39mcorpora\u001b[39;00m \u001b[39mimport\u001b[39;00m Dictionary\n\u001b[1;32m----> <a href='vscode-notebook-cell:/c%3A/Users/shree/Desktop/VIT%20AP/Capstone/PROJECT/Fake%20news%20dataset/embeddings.ipynb#W2sZmlsZQ%3D%3D?line=4'>5</a>\u001b[0m \u001b[39mfrom\u001b[39;00m \u001b[39mgensim\u001b[39;00m\u001b[39m.\u001b[39;00m\u001b[39mmodels\u001b[39;00m \u001b[39mimport\u001b[39;00m GloVe\n\u001b[0;32m      <a href='vscode-notebook-cell:/c%3A/Users/shree/Desktop/VIT%20AP/Capstone/PROJECT/Fake%20news%20dataset/embeddings.ipynb#W2sZmlsZQ%3D%3D?line=6'>7</a>\u001b[0m \u001b[39mdef\u001b[39;00m \u001b[39mglove_embeddings\u001b[39m(data_path, embedding_path):\n\u001b[0;32m      <a href='vscode-notebook-cell:/c%3A/Users/shree/Desktop/VIT%20AP/Capstone/PROJECT/Fake%20news%20dataset/embeddings.ipynb#W2sZmlsZQ%3D%3D?line=7'>8</a>\u001b[0m     \u001b[39m# Load the Hindi tweets\u001b[39;00m\n\u001b[0;32m      <a href='vscode-notebook-cell:/c%3A/Users/shree/Desktop/VIT%20AP/Capstone/PROJECT/Fake%20news%20dataset/embeddings.ipynb#W2sZmlsZQ%3D%3D?line=8'>9</a>\u001b[0m     data \u001b[39m=\u001b[39m pd\u001b[39m.\u001b[39mread_csv(data_path)\n",
      "\u001b[1;31mImportError\u001b[0m: cannot import name 'GloVe' from 'gensim.models' (c:\\Users\\shree\\anaconda3\\envs\\tensor\\lib\\site-packages\\gensim\\models\\__init__.py)"
     ]
    }
   ],
   "source": [
    "import pandas as pd\n",
    "import numpy as np\n",
    "from gensim.models import KeyedVectors\n",
    "from gensim.corpora import Dictionary\n",
    "from gensim.models import GloVe\n",
    "\n",
    "def glove_embeddings(data_path, embedding_path):\n",
    "    # Load the Hindi tweets\n",
    "    data = pd.read_csv(data_path)\n",
    "\n",
    "    # Convert tweets into a corpus\n",
    "    corpus = []\n",
    "    for tweet in data['tweet']:\n",
    "        tweet = tweet.split()\n",
    "        corpus.append(tweet)\n",
    "\n",
    "    # Create a dictionary\n",
    "    dictionary = Dictionary(corpus)\n",
    "\n",
    "    # Train GloVe embeddings\n",
    "    glove = GloVe(sentences=corpus, min_count=1, window=5, iter=10, vector_size=100)\n",
    "\n",
    "    # Save embeddings to a CSV file\n",
    "    with open(embedding_path, 'w') as f:\n",
    "        for word, embedding in glove.wv.items():\n",
    "            f.write(f\"{word},{','.join([str(e) for e in embedding])}\\n\")\n",
    "\n",
    "if __name__ == '__main__':\n",
    "    data_path = 'final_balanced_dataset.csv'\n",
    "    embedding_path = 'glove_embeddings.csv'\n",
    "\n",
    "    glove_embeddings(data_path, embedding_path)\n"
   ]
  }
 ],
 "metadata": {
  "kernelspec": {
   "display_name": "tensor",
   "language": "python",
   "name": "python3"
  },
  "language_info": {
   "codemirror_mode": {
    "name": "ipython",
    "version": 3
   },
   "file_extension": ".py",
   "mimetype": "text/x-python",
   "name": "python",
   "nbconvert_exporter": "python",
   "pygments_lexer": "ipython3",
   "version": "3.10.11"
  }
 },
 "nbformat": 4,
 "nbformat_minor": 2
}
